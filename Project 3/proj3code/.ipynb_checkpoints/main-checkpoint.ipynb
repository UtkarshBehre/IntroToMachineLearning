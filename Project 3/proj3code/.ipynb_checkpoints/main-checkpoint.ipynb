{
 "cells": [
  {
   "cell_type": "markdown",
   "metadata": {
    "colab_type": "text",
    "id": "vrzF_4RKfPpj"
   },
   "source": [
    "# CSE574 Intro to Machine Learning Project 3\n",
    "### Train unsupervised models: kmeans, auto-encoder based kmeans and gmm using Fashion-MNIST clothing images \n",
    "### author: Utkarsh Behre (ubehre@buffalo.edu)"
   ]
  },
  {
   "cell_type": "markdown",
   "metadata": {
    "colab_type": "text",
    "id": "dtBD_3l1ymXQ"
   },
   "source": [
    "### Task 1: Use KMeans algorithm to cluster original data space of Fashion-MNIST dataset"
   ]
  },
  {
   "cell_type": "markdown",
   "metadata": {
    "colab_type": "text",
    "id": "olyD69gfymXU"
   },
   "source": [
    "#### Importing libraries and loading data"
   ]
  },
  {
   "cell_type": "code",
   "execution_count": 33,
   "metadata": {
    "colab": {
     "base_uri": "https://localhost:8080/",
     "height": 34
    },
    "colab_type": "code",
    "id": "Hyof08WzfPpt",
    "outputId": "3d1141f9-4d69-4b0d-bec5-c2b4ba448031",
    "scrolled": true
   },
   "outputs": [
    {
     "name": "stdout",
     "output_type": "stream",
     "text": [
      "X_train shape: (60000, 28, 28) y_train shape: (60000,)\n"
     ]
    }
   ],
   "source": [
    "# Read Fashion MNIST dataset\n",
    "import numpy as np\n",
    "import matplotlib.pyplot as plt\n",
    "from sklearn.cluster import KMeans\n",
    "from sklearn.metrics import confusion_matrix\n",
    "from sklearn.metrics.cluster import completeness_score\n",
    "# Below code can be used to get data from local files by uncommenting section 2\n",
    "# Section 1\n",
    "# import util_mnist_reader as mnist_reader\n",
    "# X_train, y_train = mnist_reader.load_mnist('data/fashion', kind='train')\n",
    "# X_test, y_test = mnist_reader.load_mnist('data/fashion', kind='t10k')\n",
    "\n",
    "# Below code can be used to get data from tensorflow datasets directly when running in google collab\n",
    "# Section 2\n",
    "import tensorflow as tf\n",
    "(X_train, y_train), (X_test, y_test) = tf.keras.datasets.fashion_mnist.load_data()\n",
    "\n",
    "print(\"X_train shape:\", X_train.shape, \"y_train shape:\", y_train.shape)"
   ]
  },
  {
   "cell_type": "markdown",
   "metadata": {
    "colab_type": "text",
    "id": "-4wdtzWLymXr"
   },
   "source": [
    "#### preprocessing the dataset"
   ]
  },
  {
   "cell_type": "code",
   "execution_count": 34,
   "metadata": {
    "colab": {
     "base_uri": "https://localhost:8080/",
     "height": 68
    },
    "colab_type": "code",
    "id": "m64zJy66ymXu",
    "outputId": "90664add-6644-4a52-9330-4273efc9ee8d"
   },
   "outputs": [
    {
     "name": "stdout",
     "output_type": "stream",
     "text": [
      "Min and Max values of train and test set before normalizing:  0 255 0 255\n",
      "Min and Max values of train and test set after normalizing:  0.0 1.0 0.0 1.0\n",
      "X_train shape:  (60000, 784) , y_train shape:  (60000,) , X_test shape:  (10000, 784) , y_test shape:  (10000,)\n"
     ]
    }
   ],
   "source": [
    "# First we reshape the 28x28 images to 784 pixel values\n",
    "X_train = X_train.reshape(60000,784)\n",
    "X_test = X_test.reshape(10000,784)\n",
    "\n",
    "# then we normalize the values\n",
    "print(\"Min and Max values of train and test set before normalizing: \", np.min(X_train), np.max(X_train), np.min(X_test), np.max(X_test))\n",
    "X_train = X_train/np.max(X_train)\n",
    "X_test = X_test/np.max(X_test)\n",
    "print(\"Min and Max values of train and test set after normalizing: \", np.min(X_train), np.max(X_train), np.min(X_test), np.max(X_test))\n",
    "\n",
    "# print final shapes of training set and testing set\n",
    "print(\"X_train shape: \", X_train.shape, \", y_train shape: \", y_train.shape,\", X_test shape: \", X_test.shape, \", y_test shape: \", y_test.shape)"
   ]
  },
  {
   "cell_type": "markdown",
   "metadata": {
    "colab_type": "text",
    "id": "xGW23pWsymX9"
   },
   "source": [
    "#### make the kmeans model using sklearn library and fit the model"
   ]
  },
  {
   "cell_type": "code",
   "execution_count": 35,
   "metadata": {
    "colab": {
     "base_uri": "https://localhost:8080/",
     "height": 68
    },
    "colab_type": "code",
    "id": "sHtLDNfhfPp9",
    "outputId": "e05a9d4d-d450-445f-a4ed-4397fcdc9561"
   },
   "outputs": [
    {
     "data": {
      "text/plain": [
       "KMeans(algorithm='auto', copy_x=True, init='random', max_iter=100,\n",
       "       n_clusters=10, n_init=10, n_jobs=None, precompute_distances='auto',\n",
       "       random_state=None, tol=0.0001, verbose=0)"
      ]
     },
     "execution_count": 35,
     "metadata": {
      "tags": []
     },
     "output_type": "execute_result"
    }
   ],
   "source": [
    "#tol is the relative tolerance required to make sure it doesnt take too much time to find convergence\n",
    "kmeans = KMeans(n_clusters=10, init='random', max_iter=100, tol=0.0001)\n",
    "kmeans.fit(X_train)"
   ]
  },
  {
   "cell_type": "markdown",
   "metadata": {
    "colab": {},
    "colab_type": "code",
    "id": "Ii7tqoO5fPqG"
   },
   "source": [
    "#### test the model on test dataset and get accuracy of the model"
   ]
  },
  {
   "cell_type": "code",
   "execution_count": 36,
   "metadata": {
    "colab": {
     "base_uri": "https://localhost:8080/",
     "height": 221
    },
    "colab_type": "code",
    "id": "oChbj4TPfPqP",
    "outputId": "a138eb1d-d3ff-40da-e8c7-2381561ad823"
   },
   "outputs": [
    {
     "name": "stdout",
     "output_type": "stream",
     "text": [
      "[[  5   0   4   3   5   0   0   0 408   2]\n",
      " [ 29 890   4 503  27   0  12   0   6   0]\n",
      " [587  50  19 277 136   0 189   0   3   0]\n",
      " [ 34   9 566  10 627   0 312   0  62   0]\n",
      " [ 93  22  61  92  42 649 115  62  84  29]\n",
      " [245  29 342 113 159   6 357   0  36   4]\n",
      " [  0   0   0   0   0  44   0   2   1 407]\n",
      " [  6   0   4   2   4   0  15   0 351   0]\n",
      " [  1   0   0   0   0 229   0 791  42  26]\n",
      " [  0   0   0   0   0  72   0 145   7 532]]\n",
      "Task1: Accuracy on the Training dataset 52.37642972025175\n",
      "Task1: Accuracy on the Testing dataset 52.4709193770049\n"
     ]
    }
   ],
   "source": [
    "y_predict_train = kmeans.labels_\n",
    "y_predict_test = kmeans.predict(X_test)\n",
    "\n",
    "score1 = 100 * completeness_score(y_train, y_predict_train)\n",
    "score2 = 100 * completeness_score(y_test, y_predict_test)\n",
    "\n",
    "conf_matrix = confusion_matrix(y_predict_test, y_test)\n",
    "print(conf_matrix)\n",
    "print(\"Task1: Accuracy on the Training dataset\", score1)\n",
    "print(\"Task1: Accuracy on the Testing dataset\", score2)"
   ]
  },
  {
   "cell_type": "markdown",
   "metadata": {
    "colab_type": "text",
    "id": "qvLAsjaxfPqY"
   },
   "source": [
    "### Task 2 and Task 3's Auto-Encoder part: Build an Auto-Encoder to have the condensed representation of the unlabeled fashion MNIST dataset"
   ]
  },
  {
   "cell_type": "markdown",
   "metadata": {
    "colab_type": "text",
    "id": "axZDgFdUymYw"
   },
   "source": [
    "#### Importing required libraries for task 2 and loading the dataset"
   ]
  },
  {
   "cell_type": "code",
   "execution_count": 2,
   "metadata": {
    "colab": {
     "base_uri": "https://localhost:8080/",
     "height": 233
    },
    "colab_type": "code",
    "id": "li0qH1ZUfPqb",
    "outputId": "a67c81e7-9403-4f98-c541-f7f9160abf99"
   },
   "outputs": [
    {
     "name": "stderr",
     "output_type": "stream",
     "text": [
      "Using TensorFlow backend.\n"
     ]
    },
    {
     "data": {
      "text/html": [
       "<p style=\"color: red;\">\n",
       "The default version of TensorFlow in Colab will soon switch to TensorFlow 2.x.<br>\n",
       "We recommend you <a href=\"https://www.tensorflow.org/guide/migrate\" target=\"_blank\">upgrade</a> now \n",
       "or ensure your notebook will continue to use TensorFlow 1.x via the <code>%tensorflow_version 1.x</code> magic:\n",
       "<a href=\"https://colab.research.google.com/notebooks/tensorflow_version.ipynb\" target=\"_blank\">more info</a>.</p>\n"
      ],
      "text/plain": [
       "<IPython.core.display.HTML object>"
      ]
     },
     "metadata": {
      "tags": []
     },
     "output_type": "display_data"
    },
    {
     "name": "stdout",
     "output_type": "stream",
     "text": [
      "Downloading data from https://storage.googleapis.com/tensorflow/tf-keras-datasets/train-labels-idx1-ubyte.gz\n",
      "32768/29515 [=================================] - 0s 0us/step\n",
      "Downloading data from https://storage.googleapis.com/tensorflow/tf-keras-datasets/train-images-idx3-ubyte.gz\n",
      "26427392/26421880 [==============================] - 0s 0us/step\n",
      "Downloading data from https://storage.googleapis.com/tensorflow/tf-keras-datasets/t10k-labels-idx1-ubyte.gz\n",
      "8192/5148 [===============================================] - 0s 0us/step\n",
      "Downloading data from https://storage.googleapis.com/tensorflow/tf-keras-datasets/t10k-images-idx3-ubyte.gz\n",
      "4423680/4422102 [==============================] - 0s 0us/step\n",
      "X_train shape: (60000, 28, 28) y_train shape: (60000,)\n"
     ]
    }
   ],
   "source": [
    "import keras\n",
    "import numpy as np\n",
    "import matplotlib.pyplot as plt\n",
    "from keras.models import Model\n",
    "from keras.optimizers import RMSprop\n",
    "from keras.layers import Input,Flatten,Dropout,merge,Reshape,Conv2D,MaxPooling2D,UpSampling2D\n",
    "from keras.layers.normalization import BatchNormalization\n",
    "from keras.models import Model,Sequential\n",
    "from sklearn.model_selection import train_test_split\n",
    "from sklearn.cluster import KMeans\n",
    "\n",
    "# use below code when running in local\n",
    "# import util_mnist_reader as mnist_reader\n",
    "# X_train, y_train = mnist_reader.load_mnist_for_CNN('data/fashion', kind='train')\n",
    "# X_test, y_test = mnist_reader.load_mnist_for_CNN('data/fashion', kind='t10k')\n",
    "\n",
    "# Load the fashion-mnist data from keras dataset | use this when using google collab\n",
    "import tensorflow as tf\n",
    "(X_train, y_train), (X_test, y_test) = tf.keras.datasets.fashion_mnist.load_data()\n",
    "\n",
    "print(\"X_train shape:\", X_train.shape, \"y_train shape:\", y_train.shape)"
   ]
  },
  {
   "cell_type": "markdown",
   "metadata": {
    "colab": {},
    "colab_type": "code",
    "id": "dMqwJH6KfPqj"
   },
   "source": [
    "#### preprocessing the data"
   ]
  },
  {
   "cell_type": "code",
   "execution_count": 4,
   "metadata": {
    "colab": {
     "base_uri": "https://localhost:8080/",
     "height": 85
    },
    "colab_type": "code",
    "id": "J5Ote3tufPq0",
    "outputId": "cf75ed28-ff84-4771-fceb-f7b4d3105010",
    "scrolled": true
   },
   "outputs": [
    {
     "name": "stdout",
     "output_type": "stream",
     "text": [
      "(60000, 28, 28, 1) float32 (10000, 28, 28, 1) float32\n",
      "255.0 255.0\n",
      "1.0 1.0\n",
      "(48000, 28, 28, 1) (12000, 28, 28, 1) (48000,) (12000,)\n"
     ]
    }
   ],
   "source": [
    "# reshaping so that it can be fed to auto-encoder\n",
    "X_train = X_train.reshape(-1,28,28,1)\n",
    "X_test = X_test.reshape(-1,28,28,1)\n",
    "\n",
    "# type change to support in keras\n",
    "X_train = X_train.astype(np.float32)\n",
    "X_test = X_test.astype(np.float32)\n",
    "print(X_train.shape, X_train.dtype, X_test.shape, X_test.dtype)\n",
    "\n",
    "# normalize the data\n",
    "print(np.max(X_train), np.max(X_test))\n",
    "X_train = X_train/np.max(X_train)\n",
    "X_test = X_test/np.max(X_test)\n",
    "print(np.max(X_train), np.max(X_test))\n",
    "\n",
    "# split data into training and validation\n",
    "X_train, X_valid, y_train, y_valid = train_test_split(X_train,y_train, test_size=0.2, random_state=13)\n",
    "print(X_train.shape, X_valid.shape, y_train.shape, y_valid.shape)"
   ]
  },
  {
   "cell_type": "markdown",
   "metadata": {
    "colab_type": "text",
    "id": "lz2qacd0ymZQ"
   },
   "source": [
    "#### encoder, decoder and other functions common to Task 2 and Task 3"
   ]
  },
  {
   "cell_type": "code",
   "execution_count": 0,
   "metadata": {
    "colab": {},
    "colab_type": "code",
    "id": "mcGI44U_fPrE"
   },
   "outputs": [],
   "source": [
    "# for task 3 too much ram requirement for conv4, so removing it for task 3\n",
    "def encoder(input_img):\n",
    "    #encoder\n",
    "    #input = 28 x 28 x 1 (wide and thin)\n",
    "    conv1 = Conv2D(32, (3, 3), activation='relu', padding='same')(input_img) #28 x 28 x 32\n",
    "    conv1 = BatchNormalization()(conv1)\n",
    "    pool1 = MaxPooling2D(pool_size=(2, 2))(conv1) #14 x 14 x 32\n",
    "    conv2 = Conv2D(64, (3, 3), activation='relu', padding='same')(pool1) #14 x 14 x 64\n",
    "    conv2 = BatchNormalization()(conv2)\n",
    "    pool2 = MaxPooling2D(pool_size=(2, 2))(conv2) #7 x 7 x 64\n",
    "    conv3 = Conv2D(128, (3, 3), activation='relu', padding='same')(pool2) #7 x 7 x 128 (small and thick)\n",
    "    conv3 = BatchNormalization()(conv3)\n",
    "    return conv3\n",
    "\n",
    "def decoder(conv3): \n",
    "    #decoder\n",
    "    conv6 = Conv2D(64, (3, 3), activation='relu', padding='same')(conv3) #7 x 7 x 64\n",
    "    conv6 = BatchNormalization()(conv6)\n",
    "    up1 = UpSampling2D((2,2))(conv6) #14 x 14 x 64\n",
    "    conv7 = Conv2D(32, (3, 3), activation='relu', padding='same')(up1) # 14 x 14 x 32\n",
    "    conv7 = BatchNormalization()(conv7)\n",
    "    up2 = UpSampling2D((2,2))(conv7) # 28 x 28 x 32\n",
    "    decoded = Conv2D(1, (3, 3), activation='sigmoid', padding='same')(up2) # 28 x 28 x 1\n",
    "    return decoded\n",
    "\n",
    "def flatten(enco):\n",
    "    out = Flatten()(enco)\n",
    "    return out"
   ]
  },
  {
   "cell_type": "markdown",
   "metadata": {
    "colab_type": "text",
    "id": "byTgfvTNymZd"
   },
   "source": [
    "#### defining our auto-encoder model"
   ]
  },
  {
   "cell_type": "code",
   "execution_count": 6,
   "metadata": {
    "colab": {
     "base_uri": "https://localhost:8080/",
     "height": 1000
    },
    "colab_type": "code",
    "id": "ZRWtjXI-fPrT",
    "outputId": "9247a6a5-8763-4aed-84e3-5f4c2386a630"
   },
   "outputs": [
    {
     "name": "stdout",
     "output_type": "stream",
     "text": [
      "WARNING:tensorflow:From /usr/local/lib/python3.6/dist-packages/keras/backend/tensorflow_backend.py:66: The name tf.get_default_graph is deprecated. Please use tf.compat.v1.get_default_graph instead.\n",
      "\n",
      "WARNING:tensorflow:From /usr/local/lib/python3.6/dist-packages/keras/backend/tensorflow_backend.py:541: The name tf.placeholder is deprecated. Please use tf.compat.v1.placeholder instead.\n",
      "\n",
      "WARNING:tensorflow:From /usr/local/lib/python3.6/dist-packages/keras/backend/tensorflow_backend.py:4432: The name tf.random_uniform is deprecated. Please use tf.random.uniform instead.\n",
      "\n",
      "WARNING:tensorflow:From /usr/local/lib/python3.6/dist-packages/keras/backend/tensorflow_backend.py:190: The name tf.get_default_session is deprecated. Please use tf.compat.v1.get_default_session instead.\n",
      "\n",
      "WARNING:tensorflow:From /usr/local/lib/python3.6/dist-packages/keras/backend/tensorflow_backend.py:197: The name tf.ConfigProto is deprecated. Please use tf.compat.v1.ConfigProto instead.\n",
      "\n",
      "WARNING:tensorflow:From /usr/local/lib/python3.6/dist-packages/keras/backend/tensorflow_backend.py:203: The name tf.Session is deprecated. Please use tf.compat.v1.Session instead.\n",
      "\n",
      "WARNING:tensorflow:From /usr/local/lib/python3.6/dist-packages/keras/backend/tensorflow_backend.py:207: The name tf.global_variables is deprecated. Please use tf.compat.v1.global_variables instead.\n",
      "\n",
      "WARNING:tensorflow:From /usr/local/lib/python3.6/dist-packages/keras/backend/tensorflow_backend.py:216: The name tf.is_variable_initialized is deprecated. Please use tf.compat.v1.is_variable_initialized instead.\n",
      "\n",
      "WARNING:tensorflow:From /usr/local/lib/python3.6/dist-packages/keras/backend/tensorflow_backend.py:223: The name tf.variables_initializer is deprecated. Please use tf.compat.v1.variables_initializer instead.\n",
      "\n",
      "WARNING:tensorflow:From /usr/local/lib/python3.6/dist-packages/keras/backend/tensorflow_backend.py:2041: The name tf.nn.fused_batch_norm is deprecated. Please use tf.compat.v1.nn.fused_batch_norm instead.\n",
      "\n",
      "WARNING:tensorflow:From /usr/local/lib/python3.6/dist-packages/keras/backend/tensorflow_backend.py:148: The name tf.placeholder_with_default is deprecated. Please use tf.compat.v1.placeholder_with_default instead.\n",
      "\n",
      "WARNING:tensorflow:From /usr/local/lib/python3.6/dist-packages/keras/backend/tensorflow_backend.py:4267: The name tf.nn.max_pool is deprecated. Please use tf.nn.max_pool2d instead.\n",
      "\n",
      "WARNING:tensorflow:From /usr/local/lib/python3.6/dist-packages/keras/backend/tensorflow_backend.py:2239: The name tf.image.resize_nearest_neighbor is deprecated. Please use tf.compat.v1.image.resize_nearest_neighbor instead.\n",
      "\n",
      "WARNING:tensorflow:From /usr/local/lib/python3.6/dist-packages/keras/optimizers.py:793: The name tf.train.Optimizer is deprecated. Please use tf.compat.v1.train.Optimizer instead.\n",
      "\n",
      "Model: \"model_1\"\n",
      "_________________________________________________________________\n",
      "Layer (type)                 Output Shape              Param #   \n",
      "=================================================================\n",
      "input_1 (InputLayer)         (None, 28, 28, 1)         0         \n",
      "_________________________________________________________________\n",
      "conv2d_1 (Conv2D)            (None, 28, 28, 32)        320       \n",
      "_________________________________________________________________\n",
      "batch_normalization_1 (Batch (None, 28, 28, 32)        128       \n",
      "_________________________________________________________________\n",
      "max_pooling2d_1 (MaxPooling2 (None, 14, 14, 32)        0         \n",
      "_________________________________________________________________\n",
      "conv2d_2 (Conv2D)            (None, 14, 14, 64)        18496     \n",
      "_________________________________________________________________\n",
      "batch_normalization_2 (Batch (None, 14, 14, 64)        256       \n",
      "_________________________________________________________________\n",
      "max_pooling2d_2 (MaxPooling2 (None, 7, 7, 64)          0         \n",
      "_________________________________________________________________\n",
      "conv2d_3 (Conv2D)            (None, 7, 7, 128)         73856     \n",
      "_________________________________________________________________\n",
      "batch_normalization_3 (Batch (None, 7, 7, 128)         512       \n",
      "_________________________________________________________________\n",
      "conv2d_4 (Conv2D)            (None, 7, 7, 64)          73792     \n",
      "_________________________________________________________________\n",
      "batch_normalization_4 (Batch (None, 7, 7, 64)          256       \n",
      "_________________________________________________________________\n",
      "up_sampling2d_1 (UpSampling2 (None, 14, 14, 64)        0         \n",
      "_________________________________________________________________\n",
      "conv2d_5 (Conv2D)            (None, 14, 14, 32)        18464     \n",
      "_________________________________________________________________\n",
      "batch_normalization_5 (Batch (None, 14, 14, 32)        128       \n",
      "_________________________________________________________________\n",
      "up_sampling2d_2 (UpSampling2 (None, 28, 28, 32)        0         \n",
      "_________________________________________________________________\n",
      "conv2d_6 (Conv2D)            (None, 28, 28, 1)         289       \n",
      "=================================================================\n",
      "Total params: 186,497\n",
      "Trainable params: 185,857\n",
      "Non-trainable params: 640\n",
      "_________________________________________________________________\n"
     ]
    }
   ],
   "source": [
    "# setting different parameters' values for the model\n",
    "batch_size = 480\n",
    "epochs = 200\n",
    "input_img = Input(shape = (28,28,1))\n",
    "num_classes = 10\n",
    "\n",
    "# define the auto-encoder model\n",
    "autoencoder = Model(input_img, decoder(encoder(input_img)))\n",
    "autoencoder.compile(loss='mean_squared_error', optimizer = RMSprop())\n",
    "\n",
    "# print the summary/architecture of the autoencoder we are using\n",
    "autoencoder.summary()"
   ]
  },
  {
   "cell_type": "markdown",
   "metadata": {
    "colab_type": "text",
    "id": "gIoFs3H0ymZw"
   },
   "source": [
    "#### train the auto-encoder model"
   ]
  },
  {
   "cell_type": "code",
   "execution_count": 7,
   "metadata": {
    "colab": {
     "base_uri": "https://localhost:8080/",
     "height": 1000
    },
    "colab_type": "code",
    "id": "-o1go5JgfPrk",
    "outputId": "9cd7ac2b-caf2-4989-f448-d303229242c6",
    "scrolled": true
   },
   "outputs": [
    {
     "name": "stdout",
     "output_type": "stream",
     "text": [
      "WARNING:tensorflow:From /usr/local/lib/python3.6/dist-packages/keras/backend/tensorflow_backend.py:1033: The name tf.assign_add is deprecated. Please use tf.compat.v1.assign_add instead.\n",
      "\n",
      "WARNING:tensorflow:From /usr/local/lib/python3.6/dist-packages/keras/backend/tensorflow_backend.py:1020: The name tf.assign is deprecated. Please use tf.compat.v1.assign instead.\n",
      "\n",
      "Train on 48000 samples, validate on 12000 samples\n",
      "Epoch 1/200\n",
      "48000/48000 [==============================] - 7s 139us/step - loss: 0.0292 - val_loss: 0.0301\n",
      "Epoch 2/200\n",
      "48000/48000 [==============================] - 3s 52us/step - loss: 0.0126 - val_loss: 0.0150\n",
      "Epoch 3/200\n",
      "48000/48000 [==============================] - 2s 52us/step - loss: 0.0089 - val_loss: 0.0077\n",
      "Epoch 4/200\n",
      "48000/48000 [==============================] - 2s 52us/step - loss: 0.0071 - val_loss: 0.0080\n",
      "Epoch 5/200\n",
      "48000/48000 [==============================] - 2s 52us/step - loss: 0.0062 - val_loss: 0.0067\n",
      "Epoch 6/200\n",
      "48000/48000 [==============================] - 3s 52us/step - loss: 0.0058 - val_loss: 0.0054\n",
      "Epoch 7/200\n",
      "48000/48000 [==============================] - 2s 52us/step - loss: 0.0052 - val_loss: 0.0049\n",
      "Epoch 8/200\n",
      "48000/48000 [==============================] - 2s 52us/step - loss: 0.0052 - val_loss: 0.0046\n",
      "Epoch 9/200\n",
      "48000/48000 [==============================] - 3s 52us/step - loss: 0.0049 - val_loss: 0.0097\n",
      "Epoch 10/200\n",
      "48000/48000 [==============================] - 2s 52us/step - loss: 0.0044 - val_loss: 0.0044\n",
      "Epoch 11/200\n",
      "48000/48000 [==============================] - 3s 52us/step - loss: 0.0041 - val_loss: 0.0050\n",
      "Epoch 12/200\n",
      "48000/48000 [==============================] - 3s 52us/step - loss: 0.0039 - val_loss: 0.0041\n",
      "Epoch 13/200\n",
      "48000/48000 [==============================] - 3s 53us/step - loss: 0.0038 - val_loss: 0.0047\n",
      "Epoch 14/200\n",
      "48000/48000 [==============================] - 2s 52us/step - loss: 0.0036 - val_loss: 0.0036\n",
      "Epoch 15/200\n",
      "48000/48000 [==============================] - 2s 52us/step - loss: 0.0039 - val_loss: 0.0038\n",
      "Epoch 16/200\n",
      "48000/48000 [==============================] - 2s 52us/step - loss: 0.0035 - val_loss: 0.0043\n",
      "Epoch 17/200\n",
      "48000/48000 [==============================] - 2s 52us/step - loss: 0.0033 - val_loss: 0.0040\n",
      "Epoch 18/200\n",
      "48000/48000 [==============================] - 2s 52us/step - loss: 0.0033 - val_loss: 0.0033\n",
      "Epoch 19/200\n",
      "48000/48000 [==============================] - 2s 52us/step - loss: 0.0032 - val_loss: 0.0033\n",
      "Epoch 20/200\n",
      "48000/48000 [==============================] - 3s 52us/step - loss: 0.0031 - val_loss: 0.0030\n",
      "Epoch 21/200\n",
      "48000/48000 [==============================] - 2s 52us/step - loss: 0.0031 - val_loss: 0.0037\n",
      "Epoch 22/200\n",
      "48000/48000 [==============================] - 2s 52us/step - loss: 0.0030 - val_loss: 0.0028\n",
      "Epoch 23/200\n",
      "48000/48000 [==============================] - 3s 52us/step - loss: 0.0029 - val_loss: 0.0032\n",
      "Epoch 24/200\n",
      "48000/48000 [==============================] - 2s 52us/step - loss: 0.0029 - val_loss: 0.0032\n",
      "Epoch 25/200\n",
      "48000/48000 [==============================] - 3s 52us/step - loss: 0.0030 - val_loss: 0.0033\n",
      "Epoch 26/200\n",
      "48000/48000 [==============================] - 2s 52us/step - loss: 0.0028 - val_loss: 0.0028\n",
      "Epoch 27/200\n",
      "48000/48000 [==============================] - 2s 52us/step - loss: 0.0027 - val_loss: 0.0028\n",
      "Epoch 28/200\n",
      "48000/48000 [==============================] - 2s 52us/step - loss: 0.0027 - val_loss: 0.0029\n",
      "Epoch 29/200\n",
      "48000/48000 [==============================] - 2s 52us/step - loss: 0.0027 - val_loss: 0.0040\n",
      "Epoch 30/200\n",
      "48000/48000 [==============================] - 2s 52us/step - loss: 0.0026 - val_loss: 0.0029\n",
      "Epoch 31/200\n",
      "48000/48000 [==============================] - 2s 52us/step - loss: 0.0027 - val_loss: 0.0025\n",
      "Epoch 32/200\n",
      "48000/48000 [==============================] - 2s 52us/step - loss: 0.0025 - val_loss: 0.0047\n",
      "Epoch 33/200\n",
      "48000/48000 [==============================] - 3s 52us/step - loss: 0.0025 - val_loss: 0.0028\n",
      "Epoch 34/200\n",
      "48000/48000 [==============================] - 2s 52us/step - loss: 0.0025 - val_loss: 0.0029\n",
      "Epoch 35/200\n",
      "48000/48000 [==============================] - 2s 52us/step - loss: 0.0025 - val_loss: 0.0025\n",
      "Epoch 36/200\n",
      "48000/48000 [==============================] - 2s 52us/step - loss: 0.0025 - val_loss: 0.0024\n",
      "Epoch 37/200\n",
      "48000/48000 [==============================] - 2s 52us/step - loss: 0.0024 - val_loss: 0.0023\n",
      "Epoch 38/200\n",
      "48000/48000 [==============================] - 2s 52us/step - loss: 0.0024 - val_loss: 0.0028\n",
      "Epoch 39/200\n",
      "48000/48000 [==============================] - 2s 52us/step - loss: 0.0024 - val_loss: 0.0024\n",
      "Epoch 40/200\n",
      "48000/48000 [==============================] - 2s 52us/step - loss: 0.0023 - val_loss: 0.0024\n",
      "Epoch 41/200\n",
      "48000/48000 [==============================] - 2s 52us/step - loss: 0.0023 - val_loss: 0.0024\n",
      "Epoch 42/200\n",
      "48000/48000 [==============================] - 2s 52us/step - loss: 0.0023 - val_loss: 0.0024\n",
      "Epoch 43/200\n",
      "48000/48000 [==============================] - 2s 52us/step - loss: 0.0023 - val_loss: 0.0024\n",
      "Epoch 44/200\n",
      "48000/48000 [==============================] - 2s 52us/step - loss: 0.0022 - val_loss: 0.0023\n",
      "Epoch 45/200\n",
      "48000/48000 [==============================] - 2s 52us/step - loss: 0.0022 - val_loss: 0.0022\n",
      "Epoch 46/200\n",
      "48000/48000 [==============================] - 2s 52us/step - loss: 0.0022 - val_loss: 0.0023\n",
      "Epoch 47/200\n",
      "48000/48000 [==============================] - 2s 52us/step - loss: 0.0022 - val_loss: 0.0021\n",
      "Epoch 48/200\n",
      "48000/48000 [==============================] - 3s 52us/step - loss: 0.0022 - val_loss: 0.0023\n",
      "Epoch 49/200\n",
      "48000/48000 [==============================] - 2s 52us/step - loss: 0.0022 - val_loss: 0.0029\n",
      "Epoch 50/200\n",
      "48000/48000 [==============================] - 2s 52us/step - loss: 0.0022 - val_loss: 0.0024\n",
      "Epoch 51/200\n",
      "48000/48000 [==============================] - 2s 52us/step - loss: 0.0021 - val_loss: 0.0021\n",
      "Epoch 52/200\n",
      "48000/48000 [==============================] - 2s 52us/step - loss: 0.0021 - val_loss: 0.0022\n",
      "Epoch 53/200\n",
      "48000/48000 [==============================] - 2s 52us/step - loss: 0.0021 - val_loss: 0.0028\n",
      "Epoch 54/200\n",
      "48000/48000 [==============================] - 3s 52us/step - loss: 0.0021 - val_loss: 0.0024\n",
      "Epoch 55/200\n",
      "48000/48000 [==============================] - 2s 52us/step - loss: 0.0021 - val_loss: 0.0023\n",
      "Epoch 56/200\n",
      "48000/48000 [==============================] - 2s 52us/step - loss: 0.0021 - val_loss: 0.0022\n",
      "Epoch 57/200\n",
      "48000/48000 [==============================] - 2s 52us/step - loss: 0.0021 - val_loss: 0.0019\n",
      "Epoch 58/200\n",
      "48000/48000 [==============================] - 2s 52us/step - loss: 0.0021 - val_loss: 0.0020\n",
      "Epoch 59/200\n",
      "48000/48000 [==============================] - 2s 52us/step - loss: 0.0020 - val_loss: 0.0022\n",
      "Epoch 60/200\n",
      "48000/48000 [==============================] - 3s 52us/step - loss: 0.0020 - val_loss: 0.0021\n",
      "Epoch 61/200\n",
      "48000/48000 [==============================] - 2s 52us/step - loss: 0.0020 - val_loss: 0.0022\n",
      "Epoch 62/200\n",
      "48000/48000 [==============================] - 2s 52us/step - loss: 0.0020 - val_loss: 0.0022\n",
      "Epoch 63/200\n",
      "48000/48000 [==============================] - 2s 52us/step - loss: 0.0020 - val_loss: 0.0020\n",
      "Epoch 64/200\n",
      "48000/48000 [==============================] - 2s 52us/step - loss: 0.0020 - val_loss: 0.0020\n",
      "Epoch 65/200\n",
      "48000/48000 [==============================] - 2s 52us/step - loss: 0.0020 - val_loss: 0.0021\n",
      "Epoch 66/200\n",
      "48000/48000 [==============================] - 2s 52us/step - loss: 0.0020 - val_loss: 0.0020\n",
      "Epoch 67/200\n",
      "48000/48000 [==============================] - 2s 52us/step - loss: 0.0020 - val_loss: 0.0021\n",
      "Epoch 68/200\n",
      "48000/48000 [==============================] - 2s 52us/step - loss: 0.0019 - val_loss: 0.0019\n",
      "Epoch 69/200\n",
      "48000/48000 [==============================] - 2s 52us/step - loss: 0.0020 - val_loss: 0.0020\n",
      "Epoch 70/200\n",
      "48000/48000 [==============================] - 2s 52us/step - loss: 0.0019 - val_loss: 0.0019\n",
      "Epoch 71/200\n",
      "48000/48000 [==============================] - 2s 52us/step - loss: 0.0019 - val_loss: 0.0020\n",
      "Epoch 72/200\n",
      "48000/48000 [==============================] - 2s 52us/step - loss: 0.0019 - val_loss: 0.0023\n",
      "Epoch 73/200\n",
      "48000/48000 [==============================] - 2s 52us/step - loss: 0.0019 - val_loss: 0.0019\n",
      "Epoch 74/200\n",
      "48000/48000 [==============================] - 2s 52us/step - loss: 0.0019 - val_loss: 0.0021\n",
      "Epoch 75/200\n",
      "48000/48000 [==============================] - 2s 52us/step - loss: 0.0019 - val_loss: 0.0021\n",
      "Epoch 76/200\n",
      "48000/48000 [==============================] - 2s 52us/step - loss: 0.0019 - val_loss: 0.0018\n",
      "Epoch 77/200\n",
      "48000/48000 [==============================] - 2s 52us/step - loss: 0.0019 - val_loss: 0.0018\n",
      "Epoch 78/200\n",
      "48000/48000 [==============================] - 2s 52us/step - loss: 0.0019 - val_loss: 0.0020\n",
      "Epoch 79/200\n",
      "48000/48000 [==============================] - 2s 52us/step - loss: 0.0019 - val_loss: 0.0022\n",
      "Epoch 80/200\n",
      "48000/48000 [==============================] - 2s 52us/step - loss: 0.0018 - val_loss: 0.0020\n",
      "Epoch 81/200\n",
      "48000/48000 [==============================] - 2s 52us/step - loss: 0.0019 - val_loss: 0.0020\n",
      "Epoch 82/200\n",
      "48000/48000 [==============================] - 2s 52us/step - loss: 0.0018 - val_loss: 0.0023\n",
      "Epoch 83/200\n",
      "48000/48000 [==============================] - 2s 52us/step - loss: 0.0018 - val_loss: 0.0018\n",
      "Epoch 84/200\n",
      "48000/48000 [==============================] - 2s 52us/step - loss: 0.0018 - val_loss: 0.0019\n",
      "Epoch 85/200\n",
      "48000/48000 [==============================] - 2s 52us/step - loss: 0.0018 - val_loss: 0.0019\n",
      "Epoch 86/200\n",
      "48000/48000 [==============================] - 2s 52us/step - loss: 0.0018 - val_loss: 0.0019\n",
      "Epoch 87/200\n",
      "48000/48000 [==============================] - 2s 52us/step - loss: 0.0018 - val_loss: 0.0018\n",
      "Epoch 88/200\n",
      "48000/48000 [==============================] - 2s 52us/step - loss: 0.0018 - val_loss: 0.0018\n",
      "Epoch 89/200\n",
      "48000/48000 [==============================] - 2s 52us/step - loss: 0.0018 - val_loss: 0.0018\n",
      "Epoch 90/200\n",
      "48000/48000 [==============================] - 2s 52us/step - loss: 0.0018 - val_loss: 0.0018\n",
      "Epoch 91/200\n",
      "48000/48000 [==============================] - 2s 52us/step - loss: 0.0018 - val_loss: 0.0019\n",
      "Epoch 92/200\n",
      "48000/48000 [==============================] - 2s 52us/step - loss: 0.0018 - val_loss: 0.0018\n",
      "Epoch 93/200\n",
      "48000/48000 [==============================] - 2s 52us/step - loss: 0.0018 - val_loss: 0.0024\n",
      "Epoch 94/200\n",
      "48000/48000 [==============================] - 2s 52us/step - loss: 0.0018 - val_loss: 0.0018\n",
      "Epoch 95/200\n",
      "48000/48000 [==============================] - 2s 52us/step - loss: 0.0018 - val_loss: 0.0018\n",
      "Epoch 96/200\n",
      "48000/48000 [==============================] - 2s 52us/step - loss: 0.0018 - val_loss: 0.0018\n",
      "Epoch 97/200\n",
      "48000/48000 [==============================] - 2s 52us/step - loss: 0.0017 - val_loss: 0.0018\n",
      "Epoch 98/200\n",
      "48000/48000 [==============================] - 3s 52us/step - loss: 0.0017 - val_loss: 0.0019\n",
      "Epoch 99/200\n",
      "48000/48000 [==============================] - 2s 52us/step - loss: 0.0018 - val_loss: 0.0018\n",
      "Epoch 100/200\n",
      "48000/48000 [==============================] - 2s 52us/step - loss: 0.0017 - val_loss: 0.0018\n",
      "Epoch 101/200\n",
      "48000/48000 [==============================] - 2s 52us/step - loss: 0.0017 - val_loss: 0.0018\n",
      "Epoch 102/200\n",
      "48000/48000 [==============================] - 2s 52us/step - loss: 0.0017 - val_loss: 0.0017\n",
      "Epoch 103/200\n",
      "48000/48000 [==============================] - 3s 52us/step - loss: 0.0017 - val_loss: 0.0016\n",
      "Epoch 104/200\n",
      "48000/48000 [==============================] - 2s 52us/step - loss: 0.0017 - val_loss: 0.0018\n",
      "Epoch 105/200\n",
      "48000/48000 [==============================] - 2s 52us/step - loss: 0.0017 - val_loss: 0.0017\n",
      "Epoch 106/200\n",
      "48000/48000 [==============================] - 2s 52us/step - loss: 0.0017 - val_loss: 0.0018\n",
      "Epoch 107/200\n",
      "48000/48000 [==============================] - 3s 53us/step - loss: 0.0017 - val_loss: 0.0018\n",
      "Epoch 108/200\n",
      "48000/48000 [==============================] - 3s 52us/step - loss: 0.0017 - val_loss: 0.0018\n",
      "Epoch 109/200\n",
      "48000/48000 [==============================] - 3s 53us/step - loss: 0.0017 - val_loss: 0.0019\n",
      "Epoch 110/200\n",
      "48000/48000 [==============================] - 3s 53us/step - loss: 0.0017 - val_loss: 0.0019\n",
      "Epoch 111/200\n",
      "48000/48000 [==============================] - 2s 52us/step - loss: 0.0017 - val_loss: 0.0019\n",
      "Epoch 112/200\n",
      "48000/48000 [==============================] - 3s 52us/step - loss: 0.0017 - val_loss: 0.0018\n",
      "Epoch 113/200\n",
      "48000/48000 [==============================] - 2s 52us/step - loss: 0.0017 - val_loss: 0.0018\n",
      "Epoch 114/200\n",
      "48000/48000 [==============================] - 2s 52us/step - loss: 0.0017 - val_loss: 0.0017\n",
      "Epoch 115/200\n",
      "48000/48000 [==============================] - 2s 52us/step - loss: 0.0017 - val_loss: 0.0018\n",
      "Epoch 116/200\n",
      "48000/48000 [==============================] - 2s 52us/step - loss: 0.0017 - val_loss: 0.0018\n",
      "Epoch 117/200\n",
      "48000/48000 [==============================] - 2s 52us/step - loss: 0.0017 - val_loss: 0.0016\n",
      "Epoch 118/200\n",
      "48000/48000 [==============================] - 2s 52us/step - loss: 0.0016 - val_loss: 0.0017\n",
      "Epoch 119/200\n",
      "48000/48000 [==============================] - 2s 52us/step - loss: 0.0017 - val_loss: 0.0017\n",
      "Epoch 120/200\n",
      "48000/48000 [==============================] - 2s 52us/step - loss: 0.0017 - val_loss: 0.0016\n",
      "Epoch 121/200\n",
      "48000/48000 [==============================] - 2s 52us/step - loss: 0.0016 - val_loss: 0.0016\n",
      "Epoch 122/200\n",
      "48000/48000 [==============================] - 2s 52us/step - loss: 0.0016 - val_loss: 0.0018\n",
      "Epoch 123/200\n",
      "48000/48000 [==============================] - 2s 52us/step - loss: 0.0016 - val_loss: 0.0017\n",
      "Epoch 124/200\n",
      "48000/48000 [==============================] - 2s 52us/step - loss: 0.0017 - val_loss: 0.0016\n",
      "Epoch 125/200\n",
      "48000/48000 [==============================] - 2s 52us/step - loss: 0.0016 - val_loss: 0.0019\n",
      "Epoch 126/200\n",
      "48000/48000 [==============================] - 2s 52us/step - loss: 0.0016 - val_loss: 0.0016\n",
      "Epoch 127/200\n",
      "48000/48000 [==============================] - 2s 52us/step - loss: 0.0016 - val_loss: 0.0016\n",
      "Epoch 128/200\n",
      "48000/48000 [==============================] - 2s 52us/step - loss: 0.0016 - val_loss: 0.0016\n",
      "Epoch 129/200\n",
      "48000/48000 [==============================] - 2s 52us/step - loss: 0.0016 - val_loss: 0.0016\n",
      "Epoch 130/200\n",
      "48000/48000 [==============================] - 2s 52us/step - loss: 0.0016 - val_loss: 0.0016\n",
      "Epoch 131/200\n",
      "48000/48000 [==============================] - 2s 52us/step - loss: 0.0016 - val_loss: 0.0016\n",
      "Epoch 132/200\n",
      "48000/48000 [==============================] - 2s 52us/step - loss: 0.0016 - val_loss: 0.0016\n",
      "Epoch 133/200\n",
      "48000/48000 [==============================] - 3s 52us/step - loss: 0.0016 - val_loss: 0.0016\n",
      "Epoch 134/200\n",
      "48000/48000 [==============================] - 3s 53us/step - loss: 0.0016 - val_loss: 0.0016\n",
      "Epoch 135/200\n",
      "48000/48000 [==============================] - 3s 52us/step - loss: 0.0016 - val_loss: 0.0017\n",
      "Epoch 136/200\n",
      "48000/48000 [==============================] - 2s 52us/step - loss: 0.0016 - val_loss: 0.0016\n",
      "Epoch 137/200\n",
      "48000/48000 [==============================] - 2s 52us/step - loss: 0.0016 - val_loss: 0.0016\n",
      "Epoch 138/200\n",
      "48000/48000 [==============================] - 2s 52us/step - loss: 0.0016 - val_loss: 0.0017\n",
      "Epoch 139/200\n",
      "48000/48000 [==============================] - 2s 52us/step - loss: 0.0016 - val_loss: 0.0017\n",
      "Epoch 140/200\n",
      "48000/48000 [==============================] - 2s 52us/step - loss: 0.0016 - val_loss: 0.0015\n",
      "Epoch 141/200\n",
      "48000/48000 [==============================] - 2s 52us/step - loss: 0.0016 - val_loss: 0.0016\n",
      "Epoch 142/200\n",
      "48000/48000 [==============================] - 3s 52us/step - loss: 0.0016 - val_loss: 0.0016\n",
      "Epoch 143/200\n",
      "48000/48000 [==============================] - 2s 52us/step - loss: 0.0016 - val_loss: 0.0016\n",
      "Epoch 144/200\n",
      "48000/48000 [==============================] - 2s 52us/step - loss: 0.0016 - val_loss: 0.0017\n",
      "Epoch 145/200\n",
      "48000/48000 [==============================] - 2s 52us/step - loss: 0.0016 - val_loss: 0.0016\n",
      "Epoch 146/200\n",
      "48000/48000 [==============================] - 2s 52us/step - loss: 0.0016 - val_loss: 0.0015\n",
      "Epoch 147/200\n",
      "48000/48000 [==============================] - 3s 52us/step - loss: 0.0016 - val_loss: 0.0017\n",
      "Epoch 148/200\n",
      "48000/48000 [==============================] - 2s 52us/step - loss: 0.0016 - val_loss: 0.0015\n",
      "Epoch 149/200\n",
      "48000/48000 [==============================] - 2s 52us/step - loss: 0.0016 - val_loss: 0.0018\n",
      "Epoch 150/200\n",
      "48000/48000 [==============================] - 2s 52us/step - loss: 0.0016 - val_loss: 0.0015\n",
      "Epoch 151/200\n",
      "48000/48000 [==============================] - 2s 52us/step - loss: 0.0016 - val_loss: 0.0018\n",
      "Epoch 152/200\n",
      "48000/48000 [==============================] - 2s 52us/step - loss: 0.0016 - val_loss: 0.0017\n",
      "Epoch 153/200\n",
      "48000/48000 [==============================] - 2s 52us/step - loss: 0.0016 - val_loss: 0.0016\n",
      "Epoch 154/200\n",
      "48000/48000 [==============================] - 2s 52us/step - loss: 0.0015 - val_loss: 0.0016\n",
      "Epoch 155/200\n",
      "48000/48000 [==============================] - 2s 52us/step - loss: 0.0015 - val_loss: 0.0015\n",
      "Epoch 156/200\n",
      "48000/48000 [==============================] - 2s 52us/step - loss: 0.0015 - val_loss: 0.0016\n",
      "Epoch 157/200\n",
      "48000/48000 [==============================] - 2s 52us/step - loss: 0.0015 - val_loss: 0.0016\n",
      "Epoch 158/200\n",
      "48000/48000 [==============================] - 2s 52us/step - loss: 0.0015 - val_loss: 0.0015\n",
      "Epoch 159/200\n",
      "48000/48000 [==============================] - 2s 52us/step - loss: 0.0015 - val_loss: 0.0016\n",
      "Epoch 160/200\n",
      "48000/48000 [==============================] - 3s 52us/step - loss: 0.0015 - val_loss: 0.0016\n",
      "Epoch 161/200\n",
      "48000/48000 [==============================] - 2s 52us/step - loss: 0.0015 - val_loss: 0.0016\n",
      "Epoch 162/200\n",
      "48000/48000 [==============================] - 2s 52us/step - loss: 0.0015 - val_loss: 0.0016\n",
      "Epoch 163/200\n",
      "48000/48000 [==============================] - 2s 52us/step - loss: 0.0015 - val_loss: 0.0015\n",
      "Epoch 164/200\n",
      "48000/48000 [==============================] - 2s 52us/step - loss: 0.0015 - val_loss: 0.0015\n",
      "Epoch 165/200\n",
      "48000/48000 [==============================] - 2s 52us/step - loss: 0.0015 - val_loss: 0.0015\n",
      "Epoch 166/200\n",
      "48000/48000 [==============================] - 2s 52us/step - loss: 0.0015 - val_loss: 0.0015\n",
      "Epoch 167/200\n",
      "48000/48000 [==============================] - 2s 52us/step - loss: 0.0015 - val_loss: 0.0017\n",
      "Epoch 168/200\n",
      "48000/48000 [==============================] - 2s 52us/step - loss: 0.0015 - val_loss: 0.0015\n",
      "Epoch 169/200\n",
      "48000/48000 [==============================] - 2s 52us/step - loss: 0.0015 - val_loss: 0.0016\n",
      "Epoch 170/200\n",
      "48000/48000 [==============================] - 2s 52us/step - loss: 0.0015 - val_loss: 0.0015\n",
      "Epoch 171/200\n",
      "48000/48000 [==============================] - 2s 52us/step - loss: 0.0015 - val_loss: 0.0015\n",
      "Epoch 172/200\n",
      "48000/48000 [==============================] - 2s 52us/step - loss: 0.0015 - val_loss: 0.0016\n",
      "Epoch 173/200\n",
      "48000/48000 [==============================] - 2s 52us/step - loss: 0.0015 - val_loss: 0.0015\n",
      "Epoch 174/200\n",
      "48000/48000 [==============================] - 2s 52us/step - loss: 0.0015 - val_loss: 0.0016\n",
      "Epoch 175/200\n",
      "48000/48000 [==============================] - 2s 52us/step - loss: 0.0015 - val_loss: 0.0016\n",
      "Epoch 176/200\n",
      "48000/48000 [==============================] - 2s 52us/step - loss: 0.0015 - val_loss: 0.0015\n",
      "Epoch 177/200\n",
      "48000/48000 [==============================] - 2s 52us/step - loss: 0.0015 - val_loss: 0.0016\n",
      "Epoch 178/200\n",
      "48000/48000 [==============================] - 2s 52us/step - loss: 0.0015 - val_loss: 0.0017\n",
      "Epoch 179/200\n",
      "48000/48000 [==============================] - 2s 52us/step - loss: 0.0015 - val_loss: 0.0015\n",
      "Epoch 180/200\n",
      "48000/48000 [==============================] - 2s 52us/step - loss: 0.0015 - val_loss: 0.0015\n",
      "Epoch 181/200\n",
      "48000/48000 [==============================] - 2s 52us/step - loss: 0.0015 - val_loss: 0.0017\n",
      "Epoch 182/200\n",
      "48000/48000 [==============================] - 2s 52us/step - loss: 0.0015 - val_loss: 0.0014\n",
      "Epoch 183/200\n",
      "48000/48000 [==============================] - 2s 52us/step - loss: 0.0015 - val_loss: 0.0015\n",
      "Epoch 184/200\n",
      "48000/48000 [==============================] - 2s 52us/step - loss: 0.0015 - val_loss: 0.0015\n",
      "Epoch 185/200\n",
      "48000/48000 [==============================] - 2s 52us/step - loss: 0.0015 - val_loss: 0.0016\n",
      "Epoch 186/200\n",
      "48000/48000 [==============================] - 2s 52us/step - loss: 0.0015 - val_loss: 0.0014\n",
      "Epoch 187/200\n",
      "48000/48000 [==============================] - 2s 52us/step - loss: 0.0015 - val_loss: 0.0014\n",
      "Epoch 188/200\n",
      "48000/48000 [==============================] - 2s 52us/step - loss: 0.0015 - val_loss: 0.0016\n",
      "Epoch 189/200\n",
      "48000/48000 [==============================] - 2s 52us/step - loss: 0.0015 - val_loss: 0.0015\n",
      "Epoch 190/200\n",
      "48000/48000 [==============================] - 2s 52us/step - loss: 0.0014 - val_loss: 0.0015\n",
      "Epoch 191/200\n",
      "48000/48000 [==============================] - 2s 52us/step - loss: 0.0015 - val_loss: 0.0015\n",
      "Epoch 192/200\n",
      "48000/48000 [==============================] - 2s 52us/step - loss: 0.0014 - val_loss: 0.0015\n",
      "Epoch 193/200\n",
      "48000/48000 [==============================] - 2s 52us/step - loss: 0.0015 - val_loss: 0.0015\n",
      "Epoch 194/200\n",
      "48000/48000 [==============================] - 3s 52us/step - loss: 0.0015 - val_loss: 0.0014\n",
      "Epoch 195/200\n",
      "48000/48000 [==============================] - 2s 52us/step - loss: 0.0014 - val_loss: 0.0014\n",
      "Epoch 196/200\n",
      "48000/48000 [==============================] - 2s 52us/step - loss: 0.0014 - val_loss: 0.0014\n",
      "Epoch 197/200\n",
      "48000/48000 [==============================] - 2s 52us/step - loss: 0.0014 - val_loss: 0.0014\n",
      "Epoch 198/200\n",
      "48000/48000 [==============================] - 2s 52us/step - loss: 0.0014 - val_loss: 0.0014\n",
      "Epoch 199/200\n",
      "48000/48000 [==============================] - 2s 52us/step - loss: 0.0014 - val_loss: 0.0015\n",
      "Epoch 200/200\n",
      "48000/48000 [==============================] - 2s 52us/step - loss: 0.0015 - val_loss: 0.0014\n"
     ]
    }
   ],
   "source": [
    "autoencoder_train = autoencoder.fit(X_train, X_train, batch_size=480, epochs=epochs, verbose=1,validation_data=(X_valid, X_valid))"
   ]
  },
  {
   "cell_type": "markdown",
   "metadata": {
    "colab_type": "text",
    "id": "B5A3S4AOymZ8"
   },
   "source": [
    "#### Draw the training and validation loss vs epochs graph for training the auto-encoder"
   ]
  },
  {
   "cell_type": "code",
   "execution_count": 8,
   "metadata": {
    "colab": {
     "base_uri": "https://localhost:8080/",
     "height": 295
    },
    "colab_type": "code",
    "id": "pIcumehGfPrs",
    "outputId": "cd17f9c8-6ca6-466b-9e14-7c68c39defde",
    "scrolled": true
   },
   "outputs": [
    {
     "data": {
      "image/png": "[encoded data removed]",
      "text/plain": [
       "<Figure size 432x288 with 1 Axes>"
      ]
     },
     "metadata": {
      "tags": []
     },
     "output_type": "display_data"
    }
   ],
   "source": [
    "loss = autoencoder_train.history['loss']\n",
    "val_loss = autoencoder_train.history['val_loss']\n",
    "plt.figure()\n",
    "plt.plot(loss, label='Training loss')\n",
    "plt.plot(val_loss, label='Validation loss')\n",
    "plt.title('Training and validation loss')\n",
    "plt.xlabel(\"Epochs\")\n",
    "plt.ylabel(\"Loss\")\n",
    "plt.grid(b=None, which='major', axis='both')\n",
    "plt.legend()\n",
    "plt.show()"
   ]
  },
  {
   "cell_type": "markdown",
   "metadata": {
    "colab_type": "text",
    "id": "L-8KxtyOymaH"
   },
   "source": [
    "#### Make only an encoder model using the same structure and weights as before with just an addition of flatten layer"
   ]
  },
  {
   "cell_type": "code",
   "execution_count": 9,
   "metadata": {
    "colab": {
     "base_uri": "https://localhost:8080/",
     "height": 494
    },
    "colab_type": "code",
    "id": "o08DD-pffPsU",
    "outputId": "3f6be2a3-9c2b-45d5-9c38-2b3c347f686d"
   },
   "outputs": [
    {
     "name": "stdout",
     "output_type": "stream",
     "text": [
      "Model: \"model_2\"\n",
      "_________________________________________________________________\n",
      "Layer (type)                 Output Shape              Param #   \n",
      "=================================================================\n",
      "input_1 (InputLayer)         (None, 28, 28, 1)         0         \n",
      "_________________________________________________________________\n",
      "conv2d_7 (Conv2D)            (None, 28, 28, 32)        320       \n",
      "_________________________________________________________________\n",
      "batch_normalization_6 (Batch (None, 28, 28, 32)        128       \n",
      "_________________________________________________________________\n",
      "max_pooling2d_3 (MaxPooling2 (None, 14, 14, 32)        0         \n",
      "_________________________________________________________________\n",
      "conv2d_8 (Conv2D)            (None, 14, 14, 64)        18496     \n",
      "_________________________________________________________________\n",
      "batch_normalization_7 (Batch (None, 14, 14, 64)        256       \n",
      "_________________________________________________________________\n",
      "max_pooling2d_4 (MaxPooling2 (None, 7, 7, 64)          0         \n",
      "_________________________________________________________________\n",
      "conv2d_9 (Conv2D)            (None, 7, 7, 128)         73856     \n",
      "_________________________________________________________________\n",
      "batch_normalization_8 (Batch (None, 7, 7, 128)         512       \n",
      "_________________________________________________________________\n",
      "flatten_1 (Flatten)          (None, 6272)              0         \n",
      "=================================================================\n",
      "Total params: 93,568\n",
      "Trainable params: 93,120\n",
      "Non-trainable params: 448\n",
      "_________________________________________________________________\n"
     ]
    }
   ],
   "source": [
    "encode = encoder(input_img)\n",
    "encoder_model = Model(input_img,flatten(encode))\n",
    "#encoder_model.layers\n",
    "encoder_model.summary()"
   ]
  },
  {
   "cell_type": "code",
   "execution_count": 10,
   "metadata": {
    "colab": {
     "base_uri": "https://localhost:8080/",
     "height": 802
    },
    "colab_type": "code",
    "id": "xxl3JIlgfPsr",
    "outputId": "8b952652-77da-496d-a773-1deb4ede6420"
   },
   "outputs": [
    {
     "name": "stdout",
     "output_type": "stream",
     "text": [
      "[[[ 0.09191477  0.23197442 -0.08947357 -0.1581791  -0.14265007\n",
      "   -0.19768147  0.06695522  0.08693453  0.05137896  0.14320579\n",
      "   -0.17349476 -0.07924609  0.3161732   0.14687526 -0.24022019\n",
      "   -0.18729201  0.05606147 -0.0321879  -0.09309539 -0.04845624\n",
      "   -0.11965645 -0.02582127  0.1289782   0.12898305 -0.03124579\n",
      "    0.12503724  0.09124305  0.14769474  0.02310151  0.2112457\n",
      "   -0.08924935 -0.29200545]]\n",
      "\n",
      " [[ 0.2848723   0.04996274 -0.11579301 -0.24367012  0.02214088\n",
      "   -0.3471586  -0.34291843  0.08075299  0.13557595 -0.26784047\n",
      "    0.26401252 -0.19768183  0.33575526 -0.1345207   0.14186315\n",
      "   -0.05032038  0.0657806   0.32597068  0.12444524  0.0118987\n",
      "    0.18314804 -0.00560663  0.3168614  -0.17797226 -0.19981682\n",
      "    0.15602612  0.07787874 -0.12149646  0.581587   -0.15753789\n",
      "    0.2997621  -0.2215946 ]]\n",
      "\n",
      " [[ 0.15653999  0.18192233  0.2468831  -0.01801955  0.1347526\n",
      "   -0.36348483 -0.21699096  0.19597593 -0.17635335  0.16301125\n",
      "   -0.18072025 -0.03765305 -0.19984914 -0.0954921   0.03843353\n",
      "    0.25079605  0.12287743 -0.20708095 -0.02263453  0.62749916\n",
      "   -0.05228222  0.07348015 -0.00604157  0.05230951 -0.26911318\n",
      "    0.12863922 -0.11734336 -0.27800718  0.29725134 -0.10909203\n",
      "    0.0240075  -0.07235464]]]\n",
      "[[[ 0.09191477  0.23197442 -0.08947357 -0.1581791  -0.14265007\n",
      "   -0.19768147  0.06695522  0.08693453  0.05137896  0.14320579\n",
      "   -0.17349476 -0.07924609  0.3161732   0.14687526 -0.24022019\n",
      "   -0.18729201  0.05606147 -0.0321879  -0.09309539 -0.04845624\n",
      "   -0.11965645 -0.02582127  0.1289782   0.12898305 -0.03124579\n",
      "    0.12503724  0.09124305  0.14769474  0.02310151  0.2112457\n",
      "   -0.08924935 -0.29200545]]\n",
      "\n",
      " [[ 0.2848723   0.04996274 -0.11579301 -0.24367012  0.02214088\n",
      "   -0.3471586  -0.34291843  0.08075299  0.13557595 -0.26784047\n",
      "    0.26401252 -0.19768183  0.33575526 -0.1345207   0.14186315\n",
      "   -0.05032038  0.0657806   0.32597068  0.12444524  0.0118987\n",
      "    0.18314804 -0.00560663  0.3168614  -0.17797226 -0.19981682\n",
      "    0.15602612  0.07787874 -0.12149646  0.581587   -0.15753789\n",
      "    0.2997621  -0.2215946 ]]\n",
      "\n",
      " [[ 0.15653999  0.18192233  0.2468831  -0.01801955  0.1347526\n",
      "   -0.36348483 -0.21699096  0.19597593 -0.17635335  0.16301125\n",
      "   -0.18072025 -0.03765305 -0.19984914 -0.0954921   0.03843353\n",
      "    0.25079605  0.12287743 -0.20708095 -0.02263453  0.62749916\n",
      "   -0.05228222  0.07348015 -0.00604157  0.05230951 -0.26911318\n",
      "    0.12863922 -0.11734336 -0.27800718  0.29725134 -0.10909203\n",
      "    0.0240075  -0.07235464]]]\n"
     ]
    }
   ],
   "source": [
    "# copy the weights from previously trained autoencoder model to our new model\n",
    "for l1,l2 in zip(encoder_model.layers[:8],autoencoder.layers[0:8]):\n",
    "    l1.set_weights(l2.get_weights())\n",
    "    \n",
    "# Run this to confirm weights are same in our new encoder model with flatten layer\n",
    "print(autoencoder.get_weights()[0][1])\n",
    "print(encoder_model.get_weights()[0][1])"
   ]
  },
  {
   "cell_type": "markdown",
   "metadata": {
    "colab_type": "text",
    "id": "0emoay61ymad"
   },
   "source": [
    "#### Use the encoder model to get the training input for the kmeans and Gaussian mixture models"
   ]
  },
  {
   "cell_type": "code",
   "execution_count": 0,
   "metadata": {
    "colab": {},
    "colab_type": "code",
    "id": "CcxFtiKWfPtE"
   },
   "outputs": [],
   "source": [
    "encoded_output = encoder_model.predict(X_train)\n",
    "#encoded_output.shape"
   ]
  },
  {
   "cell_type": "markdown",
   "metadata": {
    "colab_type": "text",
    "id": "uIwXCKpayman"
   },
   "source": [
    "### Task 2: Build an Auto-Encoder based K-Means clustering model to cluster the condensed representation of the unlabeled fashion MNIST dataset"
   ]
  },
  {
   "cell_type": "markdown",
   "metadata": {
    "colab_type": "text",
    "id": "gzXJrEo8ymaq"
   },
   "source": [
    "#### Define the KMeans model and fit the model using the encoded_output found"
   ]
  },
  {
   "cell_type": "code",
   "execution_count": 25,
   "metadata": {
    "colab": {
     "base_uri": "https://localhost:8080/",
     "height": 68
    },
    "colab_type": "code",
    "id": "aT1kiuV8fPtV",
    "outputId": "3f4fae2b-feb4-4cc9-8c70-863bceb75f61"
   },
   "outputs": [
    {
     "data": {
      "text/plain": [
       "KMeans(algorithm='auto', copy_x=True, init='random', max_iter=100,\n",
       "       n_clusters=10, n_init=10, n_jobs=None, precompute_distances='auto',\n",
       "       random_state=None, tol=0.0001, verbose=0)"
      ]
     },
     "execution_count": 25,
     "metadata": {
      "tags": []
     },
     "output_type": "execute_result"
    }
   ],
   "source": [
    "from sklearn.cluster import KMeans\n",
    "kmeans = KMeans(n_clusters=10, init='random', max_iter=100, tol=0.0001)\n",
    "kmeans.fit(encoded_output)"
   ]
  },
  {
   "cell_type": "markdown",
   "metadata": {
    "colab": {},
    "colab_type": "code",
    "id": "5VSryqYAfPtn"
   },
   "source": [
    "#### Find the accuracy of the KMeans model for Task 2"
   ]
  },
  {
   "cell_type": "code",
   "execution_count": 29,
   "metadata": {
    "colab": {
     "base_uri": "https://localhost:8080/",
     "height": 221
    },
    "colab_type": "code",
    "id": "PoszZf94fPtt",
    "outputId": "c9ef85f8-9f80-43bf-8a75-f944c5f52512"
   },
   "outputs": [
    {
     "name": "stdout",
     "output_type": "stream",
     "text": [
      "[[517  41  14 268 115   0 160   0   3   1]\n",
      " [  0   0   0   0   0  81   0  39   0 816]\n",
      " [153  23 298  64 206   6 261   0  25   5]\n",
      " [  5   0   3   1   4   0   2   0 403   1]\n",
      " [ 30 814   4 457  24   0  20   0   4   0]\n",
      " [  2   0   0   0   0 737   5 174  58  62]\n",
      " [  3   0   3   1   4   4  12   2 331   2]\n",
      " [  1   0   0   0   0 162   0 785  45 108]\n",
      " [252 115 197 201  95  10 278   0  76   3]\n",
      " [ 37   7 481   8 552   0 262   0  55   2]]\n",
      "Task 2: Accuracy on the Training dataset 52.44530623129291\n",
      "Task 2: Accuracy on the Testing dataset 51.87130739865332\n"
     ]
    }
   ],
   "source": [
    "from sklearn.metrics.cluster import completeness_score\n",
    "from sklearn.metrics import confusion_matrix\n",
    "y_predict_train = kmeans.labels_\n",
    "y_predict_test = kmeans.predict(encoder_model.predict(X_test))\n",
    "\n",
    "# print(y_predict_train.shape, y_train.shape)\n",
    "score1 = 100 * completeness_score(y_train, y_predict_train)\n",
    "score2 = 100 * completeness_score(y_test, y_predict_test)\n",
    "conf_matrix = confusion_matrix(y_predict_test, y_test)\n",
    "print(conf_matrix)\n",
    "print(\"Task 2: Accuracy on the Training dataset\", score1)\n",
    "print(\"Task 2: Accuracy on the Testing dataset\", score2)"
   ]
  },
  {
   "cell_type": "markdown",
   "metadata": {
    "colab_type": "text",
    "id": "JDo8JTsMymbU"
   },
   "source": [
    "### Task 3: Build an Auto-Encoder based Gaussian Mixture Model clustering model to cluster the condensed representation of the unlabeled fashion MNIST dataset"
   ]
  },
  {
   "cell_type": "markdown",
   "metadata": {
    "colab": {},
    "colab_type": "code",
    "id": "cpQp3O65wnKG"
   },
   "source": [
    "#### Define the Gaussian Mixture model"
   ]
  },
  {
   "cell_type": "code",
   "execution_count": 13,
   "metadata": {
    "colab": {
     "base_uri": "https://localhost:8080/",
     "height": 102
    },
    "colab_type": "code",
    "id": "E52m-7DX3Kqv",
    "outputId": "e18ae2c2-ed77-4d51-9c63-48f6cfebe358"
   },
   "outputs": [
    {
     "data": {
      "text/plain": [
       "GaussianMixture(covariance_type='diag', init_params='kmeans', max_iter=100,\n",
       "                means_init=None, n_components=10, n_init=1,\n",
       "                precisions_init=None, random_state=None, reg_covar=1e-06,\n",
       "                tol=0.001, verbose=0, verbose_interval=10, warm_start=False,\n",
       "                weights_init=None)"
      ]
     },
     "execution_count": 13,
     "metadata": {
      "tags": []
     },
     "output_type": "execute_result"
    }
   ],
   "source": [
    "from sklearn import mixture\n",
    "# 'spherical' 'tied' 'diag' 'full'\n",
    "cv_type = 'diag'\n",
    "gmm = mixture.GaussianMixture(n_components=10, covariance_type=cv_type)\n",
    "gmm.fit(encoded_output)"
   ]
  },
  {
   "cell_type": "markdown",
   "metadata": {
    "colab_type": "text",
    "id": "8vCHG4wTymbw"
   },
   "source": [
    "#### Find the accuracy of the Gaussian Mixture model for Task 3"
   ]
  },
  {
   "cell_type": "code",
   "execution_count": 30,
   "metadata": {
    "colab": {
     "base_uri": "https://localhost:8080/",
     "height": 221
    },
    "colab_type": "code",
    "id": "rDb3MHqH4xTR",
    "outputId": "0614a213-5b4f-4626-8b68-eb3943fae02c"
   },
   "outputs": [
    {
     "name": "stdout",
     "output_type": "stream",
     "text": [
      "[[  0   0   0   0   0 536   0 921   5  95]\n",
      " [ 90 107   9 621  67   0  64   0  13   0]\n",
      " [ 23   4  23   3  12   4  48   7 437   3]\n",
      " [  8   0   7  11  16   0   8   0 450   0]\n",
      " [  0   0   0   0   0 346   0  67   2 886]\n",
      " [ 60  37  41  58  37 114  58   5  72  15]\n",
      " [181   4 275  46 107   0 273   0   0   1]\n",
      " [602  18  17 171  92   0 190   0   3   0]\n",
      " [ 33   7 628  12 666   0 357   0  18   0]\n",
      " [  3 823   0  78   3   0   2   0   0   0]]\n",
      "Task 3: Accuracy on the Training dataset 58.26739037127447\n",
      "Task 3: Accuracy on the Testing dataset 56.258316333777444\n"
     ]
    }
   ],
   "source": [
    "from sklearn.metrics.cluster import completeness_score\n",
    "from sklearn.metrics import confusion_matrix\n",
    "\n",
    "y_predict_train = gmm.predict(encoder_model.predict(X_train))\n",
    "y_predict_test = gmm.predict(encoder_model.predict(X_test))\n",
    "\n",
    "score1 = 100 * completeness_score(y_train, y_predict_train)\n",
    "score2 = 100 * completeness_score(y_test, y_predict_test)\n",
    "\n",
    "conf_matrix = confusion_matrix(y_predict_test, y_test)\n",
    "print(conf_matrix)\n",
    "print(\"Task 3: Accuracy on the Training dataset\", score1)\n",
    "print(\"Task 3: Accuracy on the Testing dataset\", score2)"
   ]
  }
 ],
 "metadata": {
  "accelerator": "GPU",
  "colab": {
   "collapsed_sections": [],
   "machine_shape": "hm",
   "name": "main_final_changes.ipynb",
   "provenance": []
  },
  "kernelspec": {
   "display_name": "Python 3",
   "language": "python",
   "name": "python3"
  },
  "language_info": {
   "codemirror_mode": {
    "name": "ipython",
    "version": 3
   },
   "file_extension": ".py",
   "mimetype": "text/x-python",
   "name": "python",
   "nbconvert_exporter": "python",
   "pygments_lexer": "ipython3",
   "version": "3.6.5"
  }
 },
 "nbformat": 4,
 "nbformat_minor": 1
}
